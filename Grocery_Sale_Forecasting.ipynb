{
  "nbformat": 4,
  "nbformat_minor": 0,
  "metadata": {
    "colab": {
      "name": "Grocery-Sale Forecasting.ipynb",
      "provenance": [],
      "collapsed_sections": [],
      "include_colab_link": true
    },
    "kernelspec": {
      "display_name": "Python 3",
      "language": "python",
      "name": "python3"
    },
    "accelerator": "GPU"
  },
  "cells": [
    {
      "cell_type": "markdown",
      "metadata": {
        "id": "view-in-github",
        "colab_type": "text"
      },
      "source": [
        "<a href=\"https://colab.research.google.com/github/Satvik256/Machine-Learning/blob/main/Grocery_Sale_Forecasting.ipynb\" target=\"_parent\"><img src=\"https://colab.research.google.com/assets/colab-badge.svg\" alt=\"Open In Colab\"/></a>"
      ]
    },
    {
      "cell_type": "code",
      "metadata": {
        "id": "uZLvPKByUEnE",
        "outputId": "82227a8c-5e9a-4cd5-d37d-e5f38adbba4e",
        "colab": {
          "base_uri": "https://localhost:8080/",
          "height": 208
        }
      },
      "source": [
        "print (\" Installing FastAI libraries ... (takes 2 min)\")\n",
        "!pip install fastai==0.7.0 > /dev/null\n",
        "!pip install scikit-learn==0.20 > null\n",
        "print (\"\\n Clonning FastAI repository locally ...\")\n",
        "!git clone https://github.com/fastai/fastai.git fastai_ml\n",
        "!ln -s fastai_ml/courses/ml1/fastai/ fastai"
      ],
      "execution_count": null,
      "outputs": [
        {
          "output_type": "stream",
          "text": [
            " Installing FastAI libraries ... (takes 2 min)\n",
            "\u001b[31mERROR: torchvision 0.7.0+cu101 has requirement torch==1.6.0, but you'll have torch 0.3.1 which is incompatible.\u001b[0m\n",
            "\n",
            " Clonning FastAI repository locally ...\n",
            "Cloning into 'fastai_ml'...\n",
            "remote: Enumerating objects: 129, done.\u001b[K\n",
            "remote: Counting objects: 100% (129/129), done.\u001b[K\n",
            "remote: Compressing objects: 100% (107/107), done.\u001b[K\n",
            "remote: Total 11993 (delta 66), reused 42 (delta 22), pack-reused 11864\u001b[K\n",
            "Receiving objects: 100% (11993/11993), 565.40 MiB | 34.21 MiB/s, done.\n",
            "Resolving deltas: 100% (9392/9392), done.\n"
          ],
          "name": "stdout"
        }
      ]
    },
    {
      "cell_type": "code",
      "metadata": {
        "id": "Oe1CdVcBUKFz",
        "outputId": "93c4349a-e155-4492-84eb-444c3c4f5777",
        "colab": {
          "base_uri": "https://localhost:8080/",
          "height": 520
        }
      },
      "source": [
        "print (\"\\n Installing required libraries...\")\n",
        "!pip install --upgrade setuptools > /dev/null\n",
        "!pip install feather > /dev/null\n",
        "!pip install scikit-misc==0.1.0 > /dev/null\n",
        "!pip install pdpbox==0.2.0 > /dev/null\n",
        "!pip install treeinterpreter==0.2.2 > /dev/null\n",
        "print (\"\\n Downloading datasets...\")\n",
        "!wget https://raw.githubusercontent.com/Giffy/Personal_dataset_repository/master/grocery-sales-train.7z\n",
        "!7z x -y grocery-sales-train.7z > /dev/null\n",
        "!wget https://raw.githubusercontent.com/Giffy/Personal_dataset_repository/master/grocery-sales-test.tar.gz\n",
        "!tar xvf grocery-sales-test.tar.gz > /dev/null\n",
        "print (\"\\n Importing libraries\")\n",
        "import pandas as pd\n",
        "import os\n",
        "import numpy as np"
      ],
      "execution_count": null,
      "outputs": [
        {
          "output_type": "stream",
          "text": [
            "\n",
            " Installing required libraries...\n",
            "\u001b[31mERROR: Command errored out with exit status 1: python setup.py egg_info Check the logs for full command output.\u001b[0m\n",
            "\n",
            " Downloading datasets...\n",
            "--2020-10-09 21:26:13--  https://raw.githubusercontent.com/Giffy/Personal_dataset_repository/master/grocery-sales-train.7z\n",
            "Resolving raw.githubusercontent.com (raw.githubusercontent.com)... 151.101.0.133, 151.101.64.133, 151.101.128.133, ...\n",
            "Connecting to raw.githubusercontent.com (raw.githubusercontent.com)|151.101.0.133|:443... connected.\n",
            "HTTP request sent, awaiting response... 200 OK\n",
            "Length: 23818196 (23M) [application/octet-stream]\n",
            "Saving to: ‘grocery-sales-train.7z’\n",
            "\n",
            "grocery-sales-train 100%[===================>]  22.71M  63.4MB/s    in 0.4s    \n",
            "\n",
            "2020-10-09 21:26:14 (63.4 MB/s) - ‘grocery-sales-train.7z’ saved [23818196/23818196]\n",
            "\n",
            "--2020-10-09 21:26:16--  https://raw.githubusercontent.com/Giffy/Personal_dataset_repository/master/grocery-sales-test.tar.gz\n",
            "Resolving raw.githubusercontent.com (raw.githubusercontent.com)... 151.101.0.133, 151.101.64.133, 151.101.128.133, ...\n",
            "Connecting to raw.githubusercontent.com (raw.githubusercontent.com)|151.101.0.133|:443... connected.\n",
            "HTTP request sent, awaiting response... 200 OK\n",
            "Length: 20306349 (19M) [application/octet-stream]\n",
            "Saving to: ‘grocery-sales-test.tar.gz’\n",
            "\n",
            "grocery-sales-test. 100%[===================>]  19.37M  54.5MB/s    in 0.4s    \n",
            "\n",
            "2020-10-09 21:26:18 (54.5 MB/s) - ‘grocery-sales-test.tar.gz’ saved [20306349/20306349]\n",
            "\n",
            "\n",
            " Importing libraries\n"
          ],
          "name": "stdout"
        }
      ]
    },
    {
      "cell_type": "code",
      "metadata": {
        "id": "P6xBCVgdTflL"
      },
      "source": [
        "%load_ext autoreload\n",
        "%autoreload 2\n",
        "%matplotlib inline"
      ],
      "execution_count": null,
      "outputs": []
    },
    {
      "cell_type": "code",
      "metadata": {
        "_cell_guid": "b1076dfc-b9ad-4769-8c92-a6c4dae69d19",
        "_uuid": "8f2839f25d086af736a60e9eeb907d3b93b6e0e5",
        "id": "ppem6FI-Tfnm"
      },
      "source": [
        "from fastai.imports import *\n",
        "from fastai.structured import *\n",
        "\n",
        "from sklearn.ensemble import RandomForestRegressor\n",
        "from IPython.display import display\n",
        "\n",
        "from sklearn import metrics"
      ],
      "execution_count": null,
      "outputs": []
    },
    {
      "cell_type": "code",
      "metadata": {
        "_cell_guid": "79c7e3d0-c299-4dcb-8224-4455121ee9b0",
        "_uuid": "d629ff2d2480ee46fbb7e2d37f6b5fab8052498a",
        "id": "H4h4u4c4TfqM",
        "outputId": "202d7080-8a2e-49b5-ace5-c0792fb83387",
        "colab": {
          "base_uri": "https://localhost:8080/",
          "height": 35
        }
      },
      "source": [
        "PATH = 'grocery-sales/'\n",
        "!ls {PATH}"
      ],
      "execution_count": null,
      "outputs": [
        {
          "output_type": "stream",
          "text": [
            "test.csv  train_basic.csv\n"
          ],
          "name": "stdout"
        }
      ]
    },
    {
      "cell_type": "code",
      "metadata": {
        "_uuid": "7b156ece90949701ee9d03598ac82de92bc04e5c",
        "id": "lmd_mIbKTfs4"
      },
      "source": [
        "types = {'id': 'int64',\n",
        "        'item_nbr': 'int32',\n",
        "        'store_nbr': 'int8',\n",
        "        'unit_sales': 'float32',\n",
        "        'onpromotion': 'object'}"
      ],
      "execution_count": null,
      "outputs": []
    },
    {
      "cell_type": "code",
      "metadata": {
        "_uuid": "820a03c2cede08b15a3a034be9afc755ed779816",
        "id": "ihfpeDtXTfuh",
        "outputId": "5f9cd24e-e823-4fd3-95f6-158b7fb59d05",
        "colab": {
          "base_uri": "https://localhost:8080/",
          "height": 52
        }
      },
      "source": [
        "%%time\n",
        "df_all = pd.read_csv(f'{PATH}train_basic.csv', parse_dates=['date'], dtype=types, \n",
        "                     infer_datetime_format=True)#, skiprows=range(1,100000000))"
      ],
      "execution_count": null,
      "outputs": [
        {
          "output_type": "stream",
          "text": [
            "CPU times: user 1.47 s, sys: 115 ms, total: 1.59 s\n",
            "Wall time: 1.6 s\n"
          ],
          "name": "stdout"
        }
      ]
    },
    {
      "cell_type": "code",
      "metadata": {
        "_uuid": "b4c881d08e93f95eba88a232b2bb9485131e2b4e",
        "id": "l4bfOxx6Tfvc",
        "outputId": "112260d5-6d6a-49b1-bd09-38c3ea5521cb",
        "colab": {
          "base_uri": "https://localhost:8080/",
          "height": 52
        }
      },
      "source": [
        "df_all.onpromotion.fillna(False, inplace=True)\n",
        "df_all.onpromotion = df_all.onpromotion.map({'False': False, 'True': True})\n",
        "df_all.onpromotion = df_all.onpromotion.astype(bool)\n",
        "\n",
        "os.makedirs('tmp', exist_ok=True)\n",
        "%time df_all.to_feather('tmp/raw_groceries')"
      ],
      "execution_count": null,
      "outputs": [
        {
          "output_type": "stream",
          "text": [
            "CPU times: user 89.4 ms, sys: 61.2 ms, total: 151 ms\n",
            "Wall time: 1.43 s\n"
          ],
          "name": "stdout"
        }
      ]
    },
    {
      "cell_type": "code",
      "metadata": {
        "_uuid": "0f14aba164eab0e77fd8fb23cea60eb951a88b8b",
        "id": "Jrh0wdk0Tfwf",
        "outputId": "c597d7e6-0b16-4086-9219-84bf2c4170be",
        "colab": {
          "base_uri": "https://localhost:8080/",
          "height": 537
        }
      },
      "source": [
        "df_all.drop('Unnamed: 0', axis=1, inplace=True)\n",
        "%time df_all.describe(include='all')"
      ],
      "execution_count": null,
      "outputs": [
        {
          "output_type": "stream",
          "text": [
            "/usr/local/lib/python3.6/dist-packages/ipykernel_launcher.py:1: FutureWarning: Treating datetime data as categorical rather than numeric in `.describe` is deprecated and will be removed in a future version of pandas. Specify `datetime_is_numeric=True` to silence this warning and adopt the future behavior now.\n",
            "  \"\"\"Entry point for launching an IPython kernel.\n"
          ],
          "name": "stderr"
        },
        {
          "output_type": "stream",
          "text": [
            "CPU times: user 338 ms, sys: 2.26 ms, total: 340 ms\n",
            "Wall time: 354 ms\n"
          ],
          "name": "stdout"
        },
        {
          "output_type": "execute_result",
          "data": {
            "text/html": [
              "<div>\n",
              "<style scoped>\n",
              "    .dataframe tbody tr th:only-of-type {\n",
              "        vertical-align: middle;\n",
              "    }\n",
              "\n",
              "    .dataframe tbody tr th {\n",
              "        vertical-align: top;\n",
              "    }\n",
              "\n",
              "    .dataframe thead th {\n",
              "        text-align: right;\n",
              "    }\n",
              "</style>\n",
              "<table border=\"1\" class=\"dataframe\">\n",
              "  <thead>\n",
              "    <tr style=\"text-align: right;\">\n",
              "      <th></th>\n",
              "      <th>id</th>\n",
              "      <th>date</th>\n",
              "      <th>store_nbr</th>\n",
              "      <th>item_nbr</th>\n",
              "      <th>unit_sales</th>\n",
              "      <th>onpromotion</th>\n",
              "    </tr>\n",
              "  </thead>\n",
              "  <tbody>\n",
              "    <tr>\n",
              "      <th>count</th>\n",
              "      <td>1.997040e+06</td>\n",
              "      <td>1997040</td>\n",
              "      <td>1.997040e+06</td>\n",
              "      <td>1.997040e+06</td>\n",
              "      <td>1.997040e+06</td>\n",
              "      <td>1997040</td>\n",
              "    </tr>\n",
              "    <tr>\n",
              "      <th>unique</th>\n",
              "      <td>NaN</td>\n",
              "      <td>1684</td>\n",
              "      <td>NaN</td>\n",
              "      <td>NaN</td>\n",
              "      <td>NaN</td>\n",
              "      <td>2</td>\n",
              "    </tr>\n",
              "    <tr>\n",
              "      <th>top</th>\n",
              "      <td>NaN</td>\n",
              "      <td>2017-05-07 00:00:00</td>\n",
              "      <td>NaN</td>\n",
              "      <td>NaN</td>\n",
              "      <td>NaN</td>\n",
              "      <td>False</td>\n",
              "    </tr>\n",
              "    <tr>\n",
              "      <th>freq</th>\n",
              "      <td>NaN</td>\n",
              "      <td>1908</td>\n",
              "      <td>NaN</td>\n",
              "      <td>NaN</td>\n",
              "      <td>NaN</td>\n",
              "      <td>1528448</td>\n",
              "    </tr>\n",
              "    <tr>\n",
              "      <th>first</th>\n",
              "      <td>NaN</td>\n",
              "      <td>2013-01-01 00:00:00</td>\n",
              "      <td>NaN</td>\n",
              "      <td>NaN</td>\n",
              "      <td>NaN</td>\n",
              "      <td>NaN</td>\n",
              "    </tr>\n",
              "    <tr>\n",
              "      <th>last</th>\n",
              "      <td>NaN</td>\n",
              "      <td>2017-08-15 00:00:00</td>\n",
              "      <td>NaN</td>\n",
              "      <td>NaN</td>\n",
              "      <td>NaN</td>\n",
              "      <td>NaN</td>\n",
              "    </tr>\n",
              "    <tr>\n",
              "      <th>mean</th>\n",
              "      <td>6.271723e+07</td>\n",
              "      <td>NaN</td>\n",
              "      <td>2.745692e+01</td>\n",
              "      <td>9.728621e+05</td>\n",
              "      <td>8.551911e+00</td>\n",
              "      <td>NaN</td>\n",
              "    </tr>\n",
              "    <tr>\n",
              "      <th>std</th>\n",
              "      <td>3.619772e+07</td>\n",
              "      <td>NaN</td>\n",
              "      <td>1.633284e+01</td>\n",
              "      <td>5.202940e+05</td>\n",
              "      <td>2.057796e+01</td>\n",
              "      <td>NaN</td>\n",
              "    </tr>\n",
              "    <tr>\n",
              "      <th>min</th>\n",
              "      <td>2.060000e+02</td>\n",
              "      <td>NaN</td>\n",
              "      <td>1.000000e+00</td>\n",
              "      <td>9.699500e+04</td>\n",
              "      <td>-1.768000e+03</td>\n",
              "      <td>NaN</td>\n",
              "    </tr>\n",
              "    <tr>\n",
              "      <th>25%</th>\n",
              "      <td>3.138601e+07</td>\n",
              "      <td>NaN</td>\n",
              "      <td>1.200000e+01</td>\n",
              "      <td>5.227210e+05</td>\n",
              "      <td>2.000000e+00</td>\n",
              "      <td>NaN</td>\n",
              "    </tr>\n",
              "    <tr>\n",
              "      <th>50%</th>\n",
              "      <td>6.269716e+07</td>\n",
              "      <td>NaN</td>\n",
              "      <td>2.800000e+01</td>\n",
              "      <td>9.595020e+05</td>\n",
              "      <td>4.000000e+00</td>\n",
              "      <td>NaN</td>\n",
              "    </tr>\n",
              "    <tr>\n",
              "      <th>75%</th>\n",
              "      <td>9.402764e+07</td>\n",
              "      <td>NaN</td>\n",
              "      <td>4.300000e+01</td>\n",
              "      <td>1.354380e+06</td>\n",
              "      <td>9.000000e+00</td>\n",
              "      <td>NaN</td>\n",
              "    </tr>\n",
              "    <tr>\n",
              "      <th>max</th>\n",
              "      <td>1.254970e+08</td>\n",
              "      <td>NaN</td>\n",
              "      <td>5.400000e+01</td>\n",
              "      <td>2.127114e+06</td>\n",
              "      <td>6.909000e+03</td>\n",
              "      <td>NaN</td>\n",
              "    </tr>\n",
              "  </tbody>\n",
              "</table>\n",
              "</div>"
            ],
            "text/plain": [
              "                  id                 date  ...    unit_sales  onpromotion\n",
              "count   1.997040e+06              1997040  ...  1.997040e+06      1997040\n",
              "unique           NaN                 1684  ...           NaN            2\n",
              "top              NaN  2017-05-07 00:00:00  ...           NaN        False\n",
              "freq             NaN                 1908  ...           NaN      1528448\n",
              "first            NaN  2013-01-01 00:00:00  ...           NaN          NaN\n",
              "last             NaN  2017-08-15 00:00:00  ...           NaN          NaN\n",
              "mean    6.271723e+07                  NaN  ...  8.551911e+00          NaN\n",
              "std     3.619772e+07                  NaN  ...  2.057796e+01          NaN\n",
              "min     2.060000e+02                  NaN  ... -1.768000e+03          NaN\n",
              "25%     3.138601e+07                  NaN  ...  2.000000e+00          NaN\n",
              "50%     6.269716e+07                  NaN  ...  4.000000e+00          NaN\n",
              "75%     9.402764e+07                  NaN  ...  9.000000e+00          NaN\n",
              "max     1.254970e+08                  NaN  ...  6.909000e+03          NaN\n",
              "\n",
              "[13 rows x 6 columns]"
            ]
          },
          "metadata": {
            "tags": []
          },
          "execution_count": 9
        }
      ]
    },
    {
      "cell_type": "code",
      "metadata": {
        "_uuid": "6a44de686ee950f9f9a2bfbf5479af81628e854a",
        "id": "mwXF6wntTfxT",
        "outputId": "ff9daf50-1e95-49e6-8f4f-bbefb1f116b8",
        "colab": {
          "base_uri": "https://localhost:8080/",
          "height": 502
        }
      },
      "source": [
        "df_test = pd.read_csv(f'{PATH}test.csv',parse_dates=['date'], dtype=types, infer_datetime_format=True)\n",
        "\n",
        "df_test.onpromotion.fillna(False, inplace=True)\n",
        "df_test.onpromotion = df_all.onpromotion.map({'False': False, 'True': True})\n",
        "df_test.onpromotion = df_all.onpromotion.astype(bool)\n",
        "df_test.describe(include='all')"
      ],
      "execution_count": null,
      "outputs": [
        {
          "output_type": "stream",
          "text": [
            "/usr/local/lib/python3.6/dist-packages/ipykernel_launcher.py:6: FutureWarning: Treating datetime data as categorical rather than numeric in `.describe` is deprecated and will be removed in a future version of pandas. Specify `datetime_is_numeric=True` to silence this warning and adopt the future behavior now.\n",
            "  \n"
          ],
          "name": "stderr"
        },
        {
          "output_type": "execute_result",
          "data": {
            "text/html": [
              "<div>\n",
              "<style scoped>\n",
              "    .dataframe tbody tr th:only-of-type {\n",
              "        vertical-align: middle;\n",
              "    }\n",
              "\n",
              "    .dataframe tbody tr th {\n",
              "        vertical-align: top;\n",
              "    }\n",
              "\n",
              "    .dataframe thead th {\n",
              "        text-align: right;\n",
              "    }\n",
              "</style>\n",
              "<table border=\"1\" class=\"dataframe\">\n",
              "  <thead>\n",
              "    <tr style=\"text-align: right;\">\n",
              "      <th></th>\n",
              "      <th>id</th>\n",
              "      <th>date</th>\n",
              "      <th>store_nbr</th>\n",
              "      <th>item_nbr</th>\n",
              "      <th>onpromotion</th>\n",
              "    </tr>\n",
              "  </thead>\n",
              "  <tbody>\n",
              "    <tr>\n",
              "      <th>count</th>\n",
              "      <td>3.370464e+06</td>\n",
              "      <td>3370464</td>\n",
              "      <td>3.370464e+06</td>\n",
              "      <td>3.370464e+06</td>\n",
              "      <td>1997040</td>\n",
              "    </tr>\n",
              "    <tr>\n",
              "      <th>unique</th>\n",
              "      <td>NaN</td>\n",
              "      <td>16</td>\n",
              "      <td>NaN</td>\n",
              "      <td>NaN</td>\n",
              "      <td>2</td>\n",
              "    </tr>\n",
              "    <tr>\n",
              "      <th>top</th>\n",
              "      <td>NaN</td>\n",
              "      <td>2017-08-27 00:00:00</td>\n",
              "      <td>NaN</td>\n",
              "      <td>NaN</td>\n",
              "      <td>False</td>\n",
              "    </tr>\n",
              "    <tr>\n",
              "      <th>freq</th>\n",
              "      <td>NaN</td>\n",
              "      <td>210654</td>\n",
              "      <td>NaN</td>\n",
              "      <td>NaN</td>\n",
              "      <td>1528448</td>\n",
              "    </tr>\n",
              "    <tr>\n",
              "      <th>first</th>\n",
              "      <td>NaN</td>\n",
              "      <td>2017-08-16 00:00:00</td>\n",
              "      <td>NaN</td>\n",
              "      <td>NaN</td>\n",
              "      <td>NaN</td>\n",
              "    </tr>\n",
              "    <tr>\n",
              "      <th>last</th>\n",
              "      <td>NaN</td>\n",
              "      <td>2017-08-31 00:00:00</td>\n",
              "      <td>NaN</td>\n",
              "      <td>NaN</td>\n",
              "      <td>NaN</td>\n",
              "    </tr>\n",
              "    <tr>\n",
              "      <th>mean</th>\n",
              "      <td>1.271823e+08</td>\n",
              "      <td>NaN</td>\n",
              "      <td>2.750000e+01</td>\n",
              "      <td>1.244798e+06</td>\n",
              "      <td>NaN</td>\n",
              "    </tr>\n",
              "    <tr>\n",
              "      <th>std</th>\n",
              "      <td>9.729693e+05</td>\n",
              "      <td>NaN</td>\n",
              "      <td>1.558579e+01</td>\n",
              "      <td>5.898362e+05</td>\n",
              "      <td>NaN</td>\n",
              "    </tr>\n",
              "    <tr>\n",
              "      <th>min</th>\n",
              "      <td>1.254970e+08</td>\n",
              "      <td>NaN</td>\n",
              "      <td>1.000000e+00</td>\n",
              "      <td>9.699500e+04</td>\n",
              "      <td>NaN</td>\n",
              "    </tr>\n",
              "    <tr>\n",
              "      <th>25%</th>\n",
              "      <td>1.263397e+08</td>\n",
              "      <td>NaN</td>\n",
              "      <td>1.400000e+01</td>\n",
              "      <td>8.053210e+05</td>\n",
              "      <td>NaN</td>\n",
              "    </tr>\n",
              "    <tr>\n",
              "      <th>50%</th>\n",
              "      <td>1.271823e+08</td>\n",
              "      <td>NaN</td>\n",
              "      <td>2.750000e+01</td>\n",
              "      <td>1.294665e+06</td>\n",
              "      <td>NaN</td>\n",
              "    </tr>\n",
              "    <tr>\n",
              "      <th>75%</th>\n",
              "      <td>1.280249e+08</td>\n",
              "      <td>NaN</td>\n",
              "      <td>4.100000e+01</td>\n",
              "      <td>1.730015e+06</td>\n",
              "      <td>NaN</td>\n",
              "    </tr>\n",
              "    <tr>\n",
              "      <th>max</th>\n",
              "      <td>1.288675e+08</td>\n",
              "      <td>NaN</td>\n",
              "      <td>5.400000e+01</td>\n",
              "      <td>2.134244e+06</td>\n",
              "      <td>NaN</td>\n",
              "    </tr>\n",
              "  </tbody>\n",
              "</table>\n",
              "</div>"
            ],
            "text/plain": [
              "                  id                 date  ...      item_nbr  onpromotion\n",
              "count   3.370464e+06              3370464  ...  3.370464e+06      1997040\n",
              "unique           NaN                   16  ...           NaN            2\n",
              "top              NaN  2017-08-27 00:00:00  ...           NaN        False\n",
              "freq             NaN               210654  ...           NaN      1528448\n",
              "first            NaN  2017-08-16 00:00:00  ...           NaN          NaN\n",
              "last             NaN  2017-08-31 00:00:00  ...           NaN          NaN\n",
              "mean    1.271823e+08                  NaN  ...  1.244798e+06          NaN\n",
              "std     9.729693e+05                  NaN  ...  5.898362e+05          NaN\n",
              "min     1.254970e+08                  NaN  ...  9.699500e+04          NaN\n",
              "25%     1.263397e+08                  NaN  ...  8.053210e+05          NaN\n",
              "50%     1.271823e+08                  NaN  ...  1.294665e+06          NaN\n",
              "75%     1.280249e+08                  NaN  ...  1.730015e+06          NaN\n",
              "max     1.288675e+08                  NaN  ...  2.134244e+06          NaN\n",
              "\n",
              "[13 rows x 5 columns]"
            ]
          },
          "metadata": {
            "tags": []
          },
          "execution_count": 10
        }
      ]
    },
    {
      "cell_type": "code",
      "metadata": {
        "_uuid": "b015edb1897f5dda284f5a091d1033c31fadc89f",
        "id": "VD4HOcUfTfyn",
        "outputId": "030939c3-c771-4251-a2b8-c2bd68957bcf",
        "colab": {
          "base_uri": "https://localhost:8080/",
          "height": 202
        }
      },
      "source": [
        "df_all.tail()"
      ],
      "execution_count": null,
      "outputs": [
        {
          "output_type": "execute_result",
          "data": {
            "text/html": [
              "<div>\n",
              "<style scoped>\n",
              "    .dataframe tbody tr th:only-of-type {\n",
              "        vertical-align: middle;\n",
              "    }\n",
              "\n",
              "    .dataframe tbody tr th {\n",
              "        vertical-align: top;\n",
              "    }\n",
              "\n",
              "    .dataframe thead th {\n",
              "        text-align: right;\n",
              "    }\n",
              "</style>\n",
              "<table border=\"1\" class=\"dataframe\">\n",
              "  <thead>\n",
              "    <tr style=\"text-align: right;\">\n",
              "      <th></th>\n",
              "      <th>id</th>\n",
              "      <th>date</th>\n",
              "      <th>store_nbr</th>\n",
              "      <th>item_nbr</th>\n",
              "      <th>unit_sales</th>\n",
              "      <th>onpromotion</th>\n",
              "    </tr>\n",
              "  </thead>\n",
              "  <tbody>\n",
              "    <tr>\n",
              "      <th>1997035</th>\n",
              "      <td>73734366</td>\n",
              "      <td>2016-03-18</td>\n",
              "      <td>54</td>\n",
              "      <td>1464238</td>\n",
              "      <td>22.0</td>\n",
              "      <td>False</td>\n",
              "    </tr>\n",
              "    <tr>\n",
              "      <th>1997036</th>\n",
              "      <td>101679247</td>\n",
              "      <td>2016-12-31</td>\n",
              "      <td>49</td>\n",
              "      <td>1489899</td>\n",
              "      <td>29.0</td>\n",
              "      <td>True</td>\n",
              "    </tr>\n",
              "    <tr>\n",
              "      <th>1997037</th>\n",
              "      <td>124420242</td>\n",
              "      <td>2017-08-05</td>\n",
              "      <td>38</td>\n",
              "      <td>849080</td>\n",
              "      <td>2.0</td>\n",
              "      <td>False</td>\n",
              "    </tr>\n",
              "    <tr>\n",
              "      <th>1997038</th>\n",
              "      <td>35980557</td>\n",
              "      <td>2014-11-25</td>\n",
              "      <td>31</td>\n",
              "      <td>1463798</td>\n",
              "      <td>3.0</td>\n",
              "      <td>False</td>\n",
              "    </tr>\n",
              "    <tr>\n",
              "      <th>1997039</th>\n",
              "      <td>85369289</td>\n",
              "      <td>2016-07-18</td>\n",
              "      <td>28</td>\n",
              "      <td>362035</td>\n",
              "      <td>14.0</td>\n",
              "      <td>False</td>\n",
              "    </tr>\n",
              "  </tbody>\n",
              "</table>\n",
              "</div>"
            ],
            "text/plain": [
              "                id       date  store_nbr  item_nbr  unit_sales  onpromotion\n",
              "1997035   73734366 2016-03-18         54   1464238        22.0        False\n",
              "1997036  101679247 2016-12-31         49   1489899        29.0         True\n",
              "1997037  124420242 2017-08-05         38    849080         2.0        False\n",
              "1997038   35980557 2014-11-25         31   1463798         3.0        False\n",
              "1997039   85369289 2016-07-18         28    362035        14.0        False"
            ]
          },
          "metadata": {
            "tags": []
          },
          "execution_count": 11
        }
      ]
    },
    {
      "cell_type": "code",
      "metadata": {
        "_uuid": "66b2255b166b0ba9418eaee30dede612e486a742",
        "id": "O-Of3ZFzTf0Q"
      },
      "source": [
        "df_all.unit_sales = np.log1p(np.clip(df_all.unit_sales, 0, None))"
      ],
      "execution_count": null,
      "outputs": []
    },
    {
      "cell_type": "code",
      "metadata": {
        "_uuid": "1e674f68916a82ef047dcccddff526d56f5d12d4",
        "id": "rAcNhOoxTf0_",
        "outputId": "607aac9c-db03-4f18-bb77-cce33d6cffc3",
        "colab": {
          "base_uri": "https://localhost:8080/",
          "height": 107
        }
      },
      "source": [
        "%time add_datepart(df_all, 'date')"
      ],
      "execution_count": null,
      "outputs": [
        {
          "output_type": "stream",
          "text": [
            "/usr/local/lib/python3.6/dist-packages/fastai/structured.py:114: FutureWarning: Series.dt.weekofyear and Series.dt.week have been deprecated.  Please use Series.dt.isocalendar().week instead.\n",
            "  for n in attr: df[targ_pre + n] = getattr(fld.dt, n.lower())\n"
          ],
          "name": "stderr"
        },
        {
          "output_type": "stream",
          "text": [
            "CPU times: user 2.87 s, sys: 208 ms, total: 3.08 s\n",
            "Wall time: 3.09 s\n"
          ],
          "name": "stdout"
        }
      ]
    },
    {
      "cell_type": "code",
      "metadata": {
        "id": "3c9Cvgnn-g8n"
      },
      "source": [
        "def split_vals(a, n): return a[:n].copy(), a[n:].copy()"
      ],
      "execution_count": null,
      "outputs": []
    },
    {
      "cell_type": "code",
      "metadata": {
        "_uuid": "fc36971f58f735164f36e2e03e7a88e08b460b77",
        "id": "LTFWXnrRTf1o",
        "outputId": "4daac3c0-357d-4bad-e914-4b87ae9baddd",
        "colab": {
          "base_uri": "https://localhost:8080/",
          "height": 35
        }
      },
      "source": [
        "n_valid = len(df_test)\n",
        "n_trn = len(df_all) - n_valid\n",
        "train, valid = split_vals(df_all, n_trn)\n",
        "train.shape, valid.shape"
      ],
      "execution_count": null,
      "outputs": [
        {
          "output_type": "execute_result",
          "data": {
            "text/plain": [
              "((623616, 18), (1373424, 18))"
            ]
          },
          "metadata": {
            "tags": []
          },
          "execution_count": 15
        }
      ]
    },
    {
      "cell_type": "code",
      "metadata": {
        "id": "Oe7meG7B-qge"
      },
      "source": [
        "# train_cats(raw_train)\n",
        "# apply_cats(raw_valid, raw_train)"
      ],
      "execution_count": null,
      "outputs": []
    },
    {
      "cell_type": "code",
      "metadata": {
        "_uuid": "760b1b85e895738fc0acd843c5c6ef54497b5614",
        "id": "jJoO-sYZTf2a",
        "outputId": "d27b2575-ac72-4ad3-d378-ade98aadb057",
        "colab": {
          "base_uri": "https://localhost:8080/",
          "height": 52
        }
      },
      "source": [
        "%%time\n",
        "trn, y, nas = proc_df(train, 'unit_sales')\n",
        "val, y_val, nas = proc_df(valid, 'unit_sales')"
      ],
      "execution_count": null,
      "outputs": [
        {
          "output_type": "stream",
          "text": [
            "CPU times: user 362 ms, sys: 273 ms, total: 635 ms\n",
            "Wall time: 640 ms\n"
          ],
          "name": "stdout"
        }
      ]
    },
    {
      "cell_type": "code",
      "metadata": {
        "_uuid": "d9b795bf862355e5864616f6a29529bb6347fd7d",
        "id": "dhpsyabFTf3W"
      },
      "source": [
        "def rmse(x, y): return math.sqrt(((x-y)**2).mean())\n",
        "\n",
        "def print_score(m):\n",
        "    res = [rmse(m.predict(x), y), rmse(m.predict(val), y_val),\n",
        "          m.score(x, y), m.score(val, y_val)]\n",
        "    if hasattr(m, 'oob_score_'): res.append(m.oob_score_)\n",
        "    print(res)"
      ],
      "execution_count": null,
      "outputs": []
    },
    {
      "cell_type": "code",
      "metadata": {
        "_uuid": "8bb9ca082b1ba30bc56eafcb23b8c9605be37d11",
        "id": "2XASKHqCTf4C"
      },
      "source": [
        "set_rf_samples(1000000)"
      ],
      "execution_count": null,
      "outputs": []
    },
    {
      "cell_type": "code",
      "metadata": {
        "_uuid": "e53570d5cc91dad54601de72a7662bc8d18e728b",
        "id": "hZZi7126Tf4f",
        "outputId": "01181ee3-644a-4f50-c47e-dcfd4857d713",
        "colab": {
          "base_uri": "https://localhost:8080/",
          "height": 52
        }
      },
      "source": [
        "%time x = np.array(trn, dtype=np.float32)"
      ],
      "execution_count": null,
      "outputs": [
        {
          "output_type": "stream",
          "text": [
            "CPU times: user 526 ms, sys: 42.8 ms, total: 569 ms\n",
            "Wall time: 570 ms\n"
          ],
          "name": "stdout"
        }
      ]
    },
    {
      "cell_type": "code",
      "metadata": {
        "_uuid": "9e15182481a92e93a628fcf5a34b56e0d06075b8",
        "id": "uy5Myf-mTf5g",
        "outputId": "faf17442-850d-4509-9986-7409ce6cefb6",
        "colab": {
          "base_uri": "https://localhost:8080/",
          "height": 156
        }
      },
      "source": [
        "# set n_jobs=-1 to use all CPU cores available\n",
        "m = RandomForestRegressor(n_estimators=20, min_samples_leaf=100, n_jobs=-1) \n",
        "%time m.fit(x, y)"
      ],
      "execution_count": null,
      "outputs": [
        {
          "output_type": "stream",
          "text": [
            "CPU times: user 2min 37s, sys: 93.6 ms, total: 2min 37s\n",
            "Wall time: 1min 21s\n"
          ],
          "name": "stdout"
        },
        {
          "output_type": "execute_result",
          "data": {
            "text/plain": [
              "RandomForestRegressor(bootstrap=True, criterion='mse', max_depth=None,\n",
              "           max_features='auto', max_leaf_nodes=None,\n",
              "           min_impurity_decrease=0.0, min_impurity_split=None,\n",
              "           min_samples_leaf=100, min_samples_split=2,\n",
              "           min_weight_fraction_leaf=0.0, n_estimators=20, n_jobs=-1,\n",
              "           oob_score=False, random_state=None, verbose=0, warm_start=False)"
            ]
          },
          "metadata": {
            "tags": []
          },
          "execution_count": 21
        }
      ]
    },
    {
      "cell_type": "code",
      "metadata": {
        "_uuid": "422b5358727db6b6475ed7ec0446a177ff407427",
        "id": "hFEdRHTSTf6y",
        "outputId": "dc621ccb-ebe7-4cd5-dce8-b300ea0463f1",
        "colab": {
          "base_uri": "https://localhost:8080/",
          "height": 35
        }
      },
      "source": [
        "print_score(m)"
      ],
      "execution_count": null,
      "outputs": [
        {
          "output_type": "stream",
          "text": [
            "[0.7749968858159555, 0.7914586463576803, 0.22919178846958188, 0.19325335658455156]\n"
          ],
          "name": "stdout"
        }
      ]
    },
    {
      "cell_type": "code",
      "metadata": {
        "_uuid": "f164f30de9eee55ebbd4521aaf01f8587f540ad7",
        "id": "ZAl5CYTQTf7c",
        "outputId": "0752cd86-a258-4e15-a842-932ee8fb0b56",
        "colab": {
          "base_uri": "https://localhost:8080/",
          "height": 156
        }
      },
      "source": [
        "m = RandomForestRegressor(n_estimators=20, min_samples_leaf=10, n_jobs=-1)\n",
        "%time m.fit(x, y)"
      ],
      "execution_count": null,
      "outputs": [
        {
          "output_type": "stream",
          "text": [
            "CPU times: user 3min 18s, sys: 139 ms, total: 3min 18s\n",
            "Wall time: 1min 41s\n"
          ],
          "name": "stdout"
        },
        {
          "output_type": "execute_result",
          "data": {
            "text/plain": [
              "RandomForestRegressor(bootstrap=True, criterion='mse', max_depth=None,\n",
              "           max_features='auto', max_leaf_nodes=None,\n",
              "           min_impurity_decrease=0.0, min_impurity_split=None,\n",
              "           min_samples_leaf=10, min_samples_split=2,\n",
              "           min_weight_fraction_leaf=0.0, n_estimators=20, n_jobs=-1,\n",
              "           oob_score=False, random_state=None, verbose=0, warm_start=False)"
            ]
          },
          "metadata": {
            "tags": []
          },
          "execution_count": 23
        }
      ]
    },
    {
      "cell_type": "code",
      "metadata": {
        "id": "Hjb7BqibCx3n",
        "outputId": "43f7c9da-0b6d-4a88-b5e0-fafba5acfe2f",
        "colab": {
          "base_uri": "https://localhost:8080/",
          "height": 35
        }
      },
      "source": [
        "print_score(m)"
      ],
      "execution_count": null,
      "outputs": [
        {
          "output_type": "stream",
          "text": [
            "[0.6088583814540425, 0.7606842417474565, 0.5242497824508892, 0.25477133706824606]\n"
          ],
          "name": "stdout"
        }
      ]
    },
    {
      "cell_type": "code",
      "metadata": {
        "_uuid": "f0ded0c32510e6ef71767c8f0267916c84b9a63b",
        "id": "eFJ285ELTf8T",
        "outputId": "90a7dee7-36fd-487c-fe42-f52f64562da7",
        "colab": {
          "base_uri": "https://localhost:8080/",
          "height": 156
        }
      },
      "source": [
        "m = RandomForestRegressor(n_estimators=20, min_samples_leaf=3, n_jobs=-1)\n",
        "%time m.fit(x, y)"
      ],
      "execution_count": null,
      "outputs": [
        {
          "output_type": "stream",
          "text": [
            "CPU times: user 3min 44s, sys: 284 ms, total: 3min 44s\n",
            "Wall time: 1min 54s\n"
          ],
          "name": "stdout"
        },
        {
          "output_type": "execute_result",
          "data": {
            "text/plain": [
              "RandomForestRegressor(bootstrap=True, criterion='mse', max_depth=None,\n",
              "           max_features='auto', max_leaf_nodes=None,\n",
              "           min_impurity_decrease=0.0, min_impurity_split=None,\n",
              "           min_samples_leaf=3, min_samples_split=2,\n",
              "           min_weight_fraction_leaf=0.0, n_estimators=20, n_jobs=-1,\n",
              "           oob_score=False, random_state=None, verbose=0, warm_start=False)"
            ]
          },
          "metadata": {
            "tags": []
          },
          "execution_count": 25
        }
      ]
    },
    {
      "cell_type": "code",
      "metadata": {
        "id": "DEmBTzetCtSB",
        "outputId": "182f1f99-fbe2-4a87-b5bf-905fb18fdbd5",
        "colab": {
          "base_uri": "https://localhost:8080/",
          "height": 69
        }
      },
      "source": [
        "%time print_score(m)"
      ],
      "execution_count": null,
      "outputs": [
        {
          "output_type": "stream",
          "text": [
            "[0.39528156732384073, 0.7705696284129441, 0.7994791468831824, 0.2352764119231353]\n",
            "CPU times: user 1min 1s, sys: 350 ms, total: 1min 1s\n",
            "Wall time: 33.4 s\n"
          ],
          "name": "stdout"
        }
      ]
    },
    {
      "cell_type": "code",
      "metadata": {
        "id": "xgLp13qPP0ju"
      },
      "source": [
        ""
      ],
      "execution_count": null,
      "outputs": []
    }
  ]
}